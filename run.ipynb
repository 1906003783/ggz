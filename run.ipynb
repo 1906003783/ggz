{
 "cells": [
  {
   "cell_type": "code",
   "execution_count": 91,
   "metadata": {},
   "outputs": [],
   "source": [
    "import pandas as pd\n",
    "import numpy as np\n",
    "import datetime\n",
    "from util import JsonLoader,DBProcer\n",
    "from conf import DefaultConfig\n",
    "\n",
    "#配置\n",
    "cfg_c=DefaultConfig()\n",
    "cfg=cfg_c.cfg\n",
    "n_chara=cfg['n_chara']\n",
    "date_i=cfg[\"date_i\"]\n",
    "mysql=cfg[\"mysql\"][\"config\"]\n",
    "dbname=mysql.get('database')\n",
    "halo=cfg[\"halo\"]\n",
    "\n",
    "col=tuple(cfg[\"col\"])\n",
    "col_c=tuple(cfg[\"col_c\"])\n",
    "\n",
    "dbs=DBProcer(\"{}\".format(dbname))\n",
    "#dbs.droper(\"view\",\"player\")\n",
    "#dbs.create_view(\"player\",\"records\",42,[\"enemyname\",\"char\",\"charlevel\",\"type\",\"weapon\",\"lv_w\",\"bracelet\",\"lv_b\",\"armor\",\"lv_a\",\"helmet\",\"lv_h\",\"hp\",\"mp\",\"spd\",\"patk\",\"matk\",\"pdef\",\"mdef\",\"halo\",\"bit_h\" ])\n",
    "#dbs.droper(\"view\",\"type\")\n",
    "#sql_string=f\"\"\"create view type as select char,type \\\"type\\\",count(*) \\\"num\\\"  from player group by player.type order by char desc;\"\"\"\n",
    "#dbs=dbs.dbexe(sql_string=sql_string)"
   ]
  },
  {
   "cell_type": "code",
   "execution_count": null,
   "metadata": {},
   "outputs": [],
   "source": [
    "dbs=DBProcer(\"{}\".format(dbname))\n",
    "def create_view(view_name:str,table_name:str,day:int,cols:list,newest:int):\n",
    "        cols_s=\",\".join(cols)\n",
    "        sql_string=f\"\"\"CREATE VIEW IF NOT EXISTS {view_name} as select {cols_s} from (select * from {table_name} where ({newest}-time)<{str(day*100000000)} order by time desc limit 100000) as v group by v.enemyname;\"\"\"\n",
    "        print(sql_string)\n",
    "\n",
    "\n",
    "sql_string=f\"\"\"select time from records order by time desc limit 1\"\"\"\n",
    "newest_d=dbs.select(sql_string)[0]\n",
    "create_view(\"player\",\"records\",42,[\"enemyname\",\"char\",\"charlevel\",\"type\",\"weapon\",\"lv_w\",\"bracelet\",\"lv_b\",\"armor\",\"lv_a\",\"helmet\",\"lv_h\",\"hp\",\"mp\",\"spd\",\"patk\",\"matk\",\"pdef\",\"mdef\",\"halo\",\"bit_h\" ],newest_d)\n"
   ]
  },
  {
   "cell_type": "code",
   "execution_count": 140,
   "metadata": {},
   "outputs": [
    {
     "name": "stdout",
     "output_type": "stream",
     "text": [
      "SELECT pdef,hp,halo FROM player WHERE type=\"中速艾\" ORDER BY pdef desc;\n"
     ]
    },
    {
     "data": {
      "text/plain": [
       "[('5236', '674583', \"['启程之誓', '圣盾祝福', '铁甲尖刺', '点到为止', '荧光护盾', '钝化锋芒']\"),\n",
       " ('5117', '669553', \"['启程之风', '圣盾祝福', '铁甲尖刺', '点到为止', '荧光护盾', '钝化锋芒']\"),\n",
       " ('4822', '775242', \"['启程之风', '圣盾祝福', '铁甲尖刺', '点到为止', '荧光护盾', '钝化锋芒']\"),\n",
       " ('4682', '607826', \"['启程之风', '圣盾祝福', '铁甲尖刺', '点到为止', '荧光护盾', '钝化锋芒']\"),\n",
       " ('4590', '740637', \"['圣盾祝福', '伤口恶化', '铁甲尖刺', '热血战魂', '点到为止', '钝化锋芒']\"),\n",
       " ('4589', '687033', \"['启程之风', '圣盾祝福', '铁甲尖刺', '点到为止', '荧光护盾', '钝化锋芒']\")]"
      ]
     },
     "execution_count": 140,
     "metadata": {},
     "output_type": "execute_result"
    }
   ],
   "source": [
    "string=\"SELECT pdef,hp,halo FROM player WHERE type=\\\"{}\\\" ORDER BY pdef desc;\".format(\"中速艾\")\n",
    "print(string)\n",
    "dbs.select(string)\n",
    "#string=\"delete from records;\"\n",
    "#dbs.dbexe(string)\n",
    "#!python cal.py"
   ]
  },
  {
   "cell_type": "code",
   "execution_count": 75,
   "metadata": {},
   "outputs": [
    {
     "name": "stdout",
     "output_type": "stream",
     "text": [
      "16777216\n",
      "0 0\n",
      "0\n",
      "0\n",
      "16\n",
      "0\n",
      "8388608\n"
     ]
    }
   ],
   "source": [
    "def isThisHalo(halo,gname:str,bit_h:int):\n",
    "        return bit_h&2<<(halo[gname]-3)\n",
    "\n",
    "\n",
    "bit_h=76679170\n",
    "print(2<<(halo[\"钝化锋芒\"]-3))\n",
    "a=isThisHalo(halo,\"荧光护盾\",bit_h)\n",
    "b=isThisHalo(halo,\"钝化锋芒\",bit_h)\n",
    "if a and b:\n",
    "    print(1)\n",
    "else:\n",
    "    print(a,b)\n",
    "print(bit_h&(2**(halo[\"荧光护盾\"]-2)) and bit_h&(2**(halo[\"铁甲尖刺\"]-2)))\n",
    "print(bit_h&(2**(halo[\"铁甲尖刺\"]-2)))\n",
    "print(2<<3)\n",
    "\n",
    "print(16777216&76679170)\n",
    "print(bit_h&2<<(halo[\"钝化锋芒\"]-4))"
   ]
  },
  {
   "cell_type": "code",
   "execution_count": 79,
   "metadata": {},
   "outputs": [
    {
     "name": "stdout",
     "output_type": "stream",
     "text": [
      "2176\n",
      "2176\n"
     ]
    }
   ],
   "source": [
    "print(128+2048)\n",
    "print(128|2048)"
   ]
  }
 ],
 "metadata": {
  "kernelspec": {
   "display_name": "Python 3",
   "language": "python",
   "name": "python3"
  },
  "language_info": {
   "codemirror_mode": {
    "name": "ipython",
    "version": 3
   },
   "file_extension": ".py",
   "mimetype": "text/x-python",
   "name": "python",
   "nbconvert_exporter": "python",
   "pygments_lexer": "ipython3",
   "version": "3.10.0 (tags/v3.10.0:b494f59, Oct  4 2021, 19:00:18) [MSC v.1929 64 bit (AMD64)]"
  },
  "orig_nbformat": 4,
  "vscode": {
   "interpreter": {
    "hash": "fbc768028c3e6ead51d9a200ddcb2ec858ae62844dcd1994729a8279be9b48f2"
   }
  }
 },
 "nbformat": 4,
 "nbformat_minor": 2
}

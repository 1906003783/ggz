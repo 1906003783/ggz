{
 "cells": [
  {
   "cell_type": "code",
   "execution_count": 5,
   "metadata": {},
   "outputs": [],
   "source": [
    "import json\n",
    "import csv\n",
    "import pandas as pd\n",
    "import numpy as np\n",
    "import pymysql\n",
    "import datetime"
   ]
  },
  {
   "attachments": {},
   "cell_type": "markdown",
   "metadata": {},
   "source": [
    "处理json"
   ]
  },
  {
   "cell_type": "code",
   "execution_count": 6,
   "metadata": {},
   "outputs": [],
   "source": [
    "\n",
    "\n",
    "with open(\"data/m.json\",'r',encoding=\"utf-8\") as f:\n",
    "    datas=json.load(f)\n",
    "    fcsv=[(\"id\",\"enemyname\",\"char\",\"charlevel\",\"time\")]\n",
    "    for data in datas[\"data\"][\"data\"][0][\"rows\"]:\n",
    "        fcsv.append((data[\"id\"],data[\"enemyname\"],data[\"char\"],data[\"charlevel\"],data[\"time\"]))\n",
    "    with open(\"data/rlt.csv\",\"w\",newline=\"\",encoding=\"utf-8\") as f2:\n",
    "        writer=csv.writer(f2)\n",
    "        writer.writerows(fcsv)\n",
    "\n",
    "with open(\"data/i.json\",'r',encoding=\"utf-8\") as f:\n",
    "    datas=json.load(f)\n",
    "    fcsv=[]\n",
    "    for data in datas[\"data\"][\"data\"][0][\"rows\"]:\n",
    "        fcsv.append((data[\"id\"],data[\"enemyname\"],data[\"char\"],data[\"charlevel\"],data[\"time\"]))\n",
    "    with open(\"data/rlt.csv\",\"a+\",newline=\"\",encoding=\"utf-8\") as f2:\n",
    "        writer=csv.writer(f2)\n",
    "        writer.writerows(fcsv)\n",
    "    "
   ]
  },
  {
   "attachments": {},
   "cell_type": "markdown",
   "metadata": {},
   "source": [
    "连接和导入数据库"
   ]
  },
  {
   "cell_type": "code",
   "execution_count": 7,
   "metadata": {},
   "outputs": [
    {
     "ename": "OperationalError",
     "evalue": "(1017, \"Can't find file 'b'E:/cal/rlt.csv''\")",
     "output_type": "error",
     "traceback": [
      "\u001b[1;31m---------------------------------------------------------------------------\u001b[0m",
      "\u001b[1;31mFileNotFoundError\u001b[0m                         Traceback (most recent call last)",
      "File \u001b[1;32mc:\\Users\\DELL\\AppData\\Local\\Programs\\Python\\Python310\\lib\\site-packages\\pymysql\\connections.py:1354\u001b[0m, in \u001b[0;36mLoadLocalFile.send_data\u001b[1;34m(self)\u001b[0m\n\u001b[0;32m   1353\u001b[0m \u001b[39mtry\u001b[39;00m:\n\u001b[1;32m-> 1354\u001b[0m     \u001b[39mwith\u001b[39;00m \u001b[39mopen\u001b[39;49m(\u001b[39mself\u001b[39;49m\u001b[39m.\u001b[39;49mfilename, \u001b[39m\"\u001b[39;49m\u001b[39mrb\u001b[39;49m\u001b[39m\"\u001b[39;49m) \u001b[39mas\u001b[39;00m open_file:\n\u001b[0;32m   1355\u001b[0m         packet_size \u001b[39m=\u001b[39m \u001b[39mmin\u001b[39m(\n\u001b[0;32m   1356\u001b[0m             conn\u001b[39m.\u001b[39mmax_allowed_packet, \u001b[39m16\u001b[39m \u001b[39m*\u001b[39m \u001b[39m1024\u001b[39m\n\u001b[0;32m   1357\u001b[0m         )  \u001b[39m# 16KB is efficient enough\u001b[39;00m\n",
      "\u001b[1;31mFileNotFoundError\u001b[0m: [Errno 2] No such file or directory: b'E:/cal/rlt.csv'",
      "\nDuring handling of the above exception, another exception occurred:\n",
      "\u001b[1;31mOperationalError\u001b[0m                          Traceback (most recent call last)",
      "\u001b[1;32me:\\cal\\cal.ipynb Cell 5\u001b[0m in \u001b[0;36m<module>\u001b[1;34m\u001b[0m\n\u001b[0;32m     <a href='vscode-notebook-cell:/e%3A/cal/cal.ipynb#W4sZmlsZQ%3D%3D?line=26'>27</a>\u001b[0m cursor\u001b[39m=\u001b[39mdb\u001b[39m.\u001b[39mcursor()\n\u001b[0;32m     <a href='vscode-notebook-cell:/e%3A/cal/cal.ipynb#W4sZmlsZQ%3D%3D?line=28'>29</a>\u001b[0m sql\u001b[39m=\u001b[39m\u001b[39m\"\u001b[39m\u001b[39mload data local infile \u001b[39m\u001b[39m\\\"\u001b[39;00m\u001b[39mE:/cal/rlt.csv\u001b[39m\u001b[39m\\\"\u001b[39;00m\u001b[39m into table record character set utf8  fields terminated by \u001b[39m\u001b[39m'\u001b[39m\u001b[39m,\u001b[39m\u001b[39m'\u001b[39m\u001b[39m  lines terminated by \u001b[39m\u001b[39m'\u001b[39m\u001b[39m\\r\u001b[39;00m\u001b[39m\\n\u001b[39;00m\u001b[39m'\u001b[39m\u001b[39m   ignore 1 lines;\u001b[39m\u001b[39m\"\u001b[39m\n\u001b[1;32m---> <a href='vscode-notebook-cell:/e%3A/cal/cal.ipynb#W4sZmlsZQ%3D%3D?line=29'>30</a>\u001b[0m dbexe(db,cursor,sql)\n\u001b[0;32m     <a href='vscode-notebook-cell:/e%3A/cal/cal.ipynb#W4sZmlsZQ%3D%3D?line=30'>31</a>\u001b[0m sql\u001b[39m=\u001b[39m\u001b[39m\"\u001b[39m\u001b[39mdelete from record where chara=\u001b[39m\u001b[39m\\\"\u001b[39;00m\u001b[39m野\u001b[39m\u001b[39m\\\"\u001b[39;00m\u001b[39m;\u001b[39m\u001b[39m\"\u001b[39m\n\u001b[0;32m     <a href='vscode-notebook-cell:/e%3A/cal/cal.ipynb#W4sZmlsZQ%3D%3D?line=31'>32</a>\u001b[0m dbexe(db,cursor,sql)\n",
      "\u001b[1;32me:\\cal\\cal.ipynb Cell 5\u001b[0m in \u001b[0;36mdbexe\u001b[1;34m(db, cursor, sql)\u001b[0m\n\u001b[0;32m      <a href='vscode-notebook-cell:/e%3A/cal/cal.ipynb#W4sZmlsZQ%3D%3D?line=1'>2</a>\u001b[0m \u001b[39mdef\u001b[39;00m \u001b[39mdbexe\u001b[39m(db,cursor,sql):\n\u001b[0;32m      <a href='vscode-notebook-cell:/e%3A/cal/cal.ipynb#W4sZmlsZQ%3D%3D?line=2'>3</a>\u001b[0m     \u001b[39mtry\u001b[39;00m:\n\u001b[0;32m      <a href='vscode-notebook-cell:/e%3A/cal/cal.ipynb#W4sZmlsZQ%3D%3D?line=3'>4</a>\u001b[0m     \u001b[39m# 执行sql语句\u001b[39;00m\n\u001b[1;32m----> <a href='vscode-notebook-cell:/e%3A/cal/cal.ipynb#W4sZmlsZQ%3D%3D?line=4'>5</a>\u001b[0m         cursor\u001b[39m.\u001b[39;49mexecute(sql)\n\u001b[0;32m      <a href='vscode-notebook-cell:/e%3A/cal/cal.ipynb#W4sZmlsZQ%3D%3D?line=5'>6</a>\u001b[0m    \u001b[39m# 提交到数据库执行\u001b[39;00m\n\u001b[0;32m      <a href='vscode-notebook-cell:/e%3A/cal/cal.ipynb#W4sZmlsZQ%3D%3D?line=6'>7</a>\u001b[0m         db\u001b[39m.\u001b[39mcommit()\n",
      "File \u001b[1;32mc:\\Users\\DELL\\AppData\\Local\\Programs\\Python\\Python310\\lib\\site-packages\\pymysql\\cursors.py:148\u001b[0m, in \u001b[0;36mCursor.execute\u001b[1;34m(self, query, args)\u001b[0m\n\u001b[0;32m    144\u001b[0m     \u001b[39mpass\u001b[39;00m\n\u001b[0;32m    146\u001b[0m query \u001b[39m=\u001b[39m \u001b[39mself\u001b[39m\u001b[39m.\u001b[39mmogrify(query, args)\n\u001b[1;32m--> 148\u001b[0m result \u001b[39m=\u001b[39m \u001b[39mself\u001b[39;49m\u001b[39m.\u001b[39;49m_query(query)\n\u001b[0;32m    149\u001b[0m \u001b[39mself\u001b[39m\u001b[39m.\u001b[39m_executed \u001b[39m=\u001b[39m query\n\u001b[0;32m    150\u001b[0m \u001b[39mreturn\u001b[39;00m result\n",
      "File \u001b[1;32mc:\\Users\\DELL\\AppData\\Local\\Programs\\Python\\Python310\\lib\\site-packages\\pymysql\\cursors.py:310\u001b[0m, in \u001b[0;36mCursor._query\u001b[1;34m(self, q)\u001b[0m\n\u001b[0;32m    308\u001b[0m \u001b[39mself\u001b[39m\u001b[39m.\u001b[39m_last_executed \u001b[39m=\u001b[39m q\n\u001b[0;32m    309\u001b[0m \u001b[39mself\u001b[39m\u001b[39m.\u001b[39m_clear_result()\n\u001b[1;32m--> 310\u001b[0m conn\u001b[39m.\u001b[39;49mquery(q)\n\u001b[0;32m    311\u001b[0m \u001b[39mself\u001b[39m\u001b[39m.\u001b[39m_do_get_result()\n\u001b[0;32m    312\u001b[0m \u001b[39mreturn\u001b[39;00m \u001b[39mself\u001b[39m\u001b[39m.\u001b[39mrowcount\n",
      "File \u001b[1;32mc:\\Users\\DELL\\AppData\\Local\\Programs\\Python\\Python310\\lib\\site-packages\\pymysql\\connections.py:548\u001b[0m, in \u001b[0;36mConnection.query\u001b[1;34m(self, sql, unbuffered)\u001b[0m\n\u001b[0;32m    546\u001b[0m     sql \u001b[39m=\u001b[39m sql\u001b[39m.\u001b[39mencode(\u001b[39mself\u001b[39m\u001b[39m.\u001b[39mencoding, \u001b[39m\"\u001b[39m\u001b[39msurrogateescape\u001b[39m\u001b[39m\"\u001b[39m)\n\u001b[0;32m    547\u001b[0m \u001b[39mself\u001b[39m\u001b[39m.\u001b[39m_execute_command(COMMAND\u001b[39m.\u001b[39mCOM_QUERY, sql)\n\u001b[1;32m--> 548\u001b[0m \u001b[39mself\u001b[39m\u001b[39m.\u001b[39m_affected_rows \u001b[39m=\u001b[39m \u001b[39mself\u001b[39;49m\u001b[39m.\u001b[39;49m_read_query_result(unbuffered\u001b[39m=\u001b[39;49munbuffered)\n\u001b[0;32m    549\u001b[0m \u001b[39mreturn\u001b[39;00m \u001b[39mself\u001b[39m\u001b[39m.\u001b[39m_affected_rows\n",
      "File \u001b[1;32mc:\\Users\\DELL\\AppData\\Local\\Programs\\Python\\Python310\\lib\\site-packages\\pymysql\\connections.py:775\u001b[0m, in \u001b[0;36mConnection._read_query_result\u001b[1;34m(self, unbuffered)\u001b[0m\n\u001b[0;32m    773\u001b[0m \u001b[39melse\u001b[39;00m:\n\u001b[0;32m    774\u001b[0m     result \u001b[39m=\u001b[39m MySQLResult(\u001b[39mself\u001b[39m)\n\u001b[1;32m--> 775\u001b[0m     result\u001b[39m.\u001b[39;49mread()\n\u001b[0;32m    776\u001b[0m \u001b[39mself\u001b[39m\u001b[39m.\u001b[39m_result \u001b[39m=\u001b[39m result\n\u001b[0;32m    777\u001b[0m \u001b[39mif\u001b[39;00m result\u001b[39m.\u001b[39mserver_status \u001b[39mis\u001b[39;00m \u001b[39mnot\u001b[39;00m \u001b[39mNone\u001b[39;00m:\n",
      "File \u001b[1;32mc:\\Users\\DELL\\AppData\\Local\\Programs\\Python\\Python310\\lib\\site-packages\\pymysql\\connections.py:1161\u001b[0m, in \u001b[0;36mMySQLResult.read\u001b[1;34m(self)\u001b[0m\n\u001b[0;32m   1159\u001b[0m     \u001b[39mself\u001b[39m\u001b[39m.\u001b[39m_read_ok_packet(first_packet)\n\u001b[0;32m   1160\u001b[0m \u001b[39melif\u001b[39;00m first_packet\u001b[39m.\u001b[39mis_load_local_packet():\n\u001b[1;32m-> 1161\u001b[0m     \u001b[39mself\u001b[39;49m\u001b[39m.\u001b[39;49m_read_load_local_packet(first_packet)\n\u001b[0;32m   1162\u001b[0m \u001b[39melse\u001b[39;00m:\n\u001b[0;32m   1163\u001b[0m     \u001b[39mself\u001b[39m\u001b[39m.\u001b[39m_read_result_packet(first_packet)\n",
      "File \u001b[1;32mc:\\Users\\DELL\\AppData\\Local\\Programs\\Python\\Python310\\lib\\site-packages\\pymysql\\connections.py:1209\u001b[0m, in \u001b[0;36mMySQLResult._read_load_local_packet\u001b[1;34m(self, first_packet)\u001b[0m\n\u001b[0;32m   1207\u001b[0m sender \u001b[39m=\u001b[39m LoadLocalFile(load_packet\u001b[39m.\u001b[39mfilename, \u001b[39mself\u001b[39m\u001b[39m.\u001b[39mconnection)\n\u001b[0;32m   1208\u001b[0m \u001b[39mtry\u001b[39;00m:\n\u001b[1;32m-> 1209\u001b[0m     sender\u001b[39m.\u001b[39;49msend_data()\n\u001b[0;32m   1210\u001b[0m \u001b[39mexcept\u001b[39;00m:\n\u001b[0;32m   1211\u001b[0m     \u001b[39mself\u001b[39m\u001b[39m.\u001b[39mconnection\u001b[39m.\u001b[39m_read_packet()  \u001b[39m# skip ok packet\u001b[39;00m\n",
      "File \u001b[1;32mc:\\Users\\DELL\\AppData\\Local\\Programs\\Python\\Python310\\lib\\site-packages\\pymysql\\connections.py:1364\u001b[0m, in \u001b[0;36mLoadLocalFile.send_data\u001b[1;34m(self)\u001b[0m\n\u001b[0;32m   1362\u001b[0m             conn\u001b[39m.\u001b[39mwrite_packet(chunk)\n\u001b[0;32m   1363\u001b[0m \u001b[39mexcept\u001b[39;00m \u001b[39mIOError\u001b[39;00m:\n\u001b[1;32m-> 1364\u001b[0m     \u001b[39mraise\u001b[39;00m err\u001b[39m.\u001b[39mOperationalError(\u001b[39m1017\u001b[39m, \u001b[39mf\u001b[39m\u001b[39m\"\u001b[39m\u001b[39mCan\u001b[39m\u001b[39m'\u001b[39m\u001b[39mt find file \u001b[39m\u001b[39m'\u001b[39m\u001b[39m{\u001b[39;00m\u001b[39mself\u001b[39m\u001b[39m.\u001b[39mfilename\u001b[39m}\u001b[39;00m\u001b[39m'\u001b[39m\u001b[39m\"\u001b[39m)\n\u001b[0;32m   1365\u001b[0m \u001b[39mfinally\u001b[39;00m:\n\u001b[0;32m   1366\u001b[0m     \u001b[39m# send the empty packet to signify we are done sending data\u001b[39;00m\n\u001b[0;32m   1367\u001b[0m     conn\u001b[39m.\u001b[39mwrite_packet(\u001b[39mb\u001b[39m\u001b[39m\"\u001b[39m\u001b[39m\"\u001b[39m)\n",
      "\u001b[1;31mOperationalError\u001b[0m: (1017, \"Can't find file 'b'E:/cal/rlt.csv''\")"
     ]
    }
   ],
   "source": [
    "#插入函数\n",
    "def dbexe(db,cursor,sql):\n",
    "    try:\n",
    "    # 执行sql语句\n",
    "        cursor.execute(sql)\n",
    "   # 提交到数据库执行\n",
    "        db.commit()\n",
    "    except pymysql.InternalError as e:\n",
    "   # 如果发生错误则回滚\n",
    "        db.rollback()\n",
    "\n",
    "#查询函数\n",
    "def dbsrh(db,cursor,sql):\n",
    "    try:\n",
    "    # 执行sql语句\n",
    "        cursor.execute(sql)\n",
    "   # 提交到数据库执行\n",
    "        result=cursor.fetchall()\n",
    "        return result\n",
    "    except pymysql.InternalError as e:\n",
    "        code, message = e.args\n",
    "        print (\">>>>>>>>>>>>>\", code, message)\n",
    "        return\n",
    "\n",
    "#连接数据库    \n",
    "db=pymysql.connect(host=\"localhost\",user=\"root\",password=\"Hts*9527\",database=\"ggz\",local_infile=True)\n",
    "cursor=db.cursor()\n",
    "\n",
    "sql=\"load data local infile \\\"E:/cal/rlt.csv\\\" into table record character set utf8  fields terminated by ','  lines terminated by '\\r\\n'   ignore 1 lines;\"\n",
    "dbexe(db,cursor,sql)\n",
    "sql=\"delete from record where chara=\\\"野\\\";\"\n",
    "dbexe(db,cursor,sql)\n",
    "\n"
   ]
  },
  {
   "attachments": {},
   "cell_type": "markdown",
   "metadata": {},
   "source": [
    "参数设定"
   ]
  },
  {
   "cell_type": "code",
   "execution_count": null,
   "metadata": {},
   "outputs": [],
   "source": [
    "n_chara=10\n",
    "df=pd.read_csv(\"data/SSS.csv\",encoding=\"utf-8\")\n",
    "pd.set_option('display.max_columns',None)\n",
    "name=[c for c in df.columns]\n",
    "date_i=[2023,1,19]\n",
    "date_t=datetime.date(date_i[0],date_i[1],date_i[2])"
   ]
  },
  {
   "attachments": {},
   "cell_type": "markdown",
   "metadata": {},
   "source": [
    "DB"
   ]
  },
  {
   "cell_type": "code",
   "execution_count": null,
   "metadata": {},
   "outputs": [],
   "source": [
    "\n",
    "\n",
    "sql=\"SELECT * FROM cnt;\"\n",
    "rlt= dbsrh(db,cursor,sql)\n",
    "\n",
    "\n",
    "if rlt is not None:\n",
    "    weight=dict()\n",
    "    for r in rlt:\n",
    "        weight[r[0]]=r[1]\n",
    "\n",
    "# 关闭不使用的游标对象\n",
    "cursor.close()\n",
    "# 关闭数据库连接\n",
    "db.close()"
   ]
  },
  {
   "attachments": {},
   "cell_type": "markdown",
   "metadata": {},
   "source": [
    "输出加权胜率"
   ]
  },
  {
   "cell_type": "code",
   "execution_count": null,
   "metadata": {},
   "outputs": [],
   "source": [
    "weight=[float(weight[(name[2*i*(n_chara+1)].strip(\"\\t\"))[0]])/sum(weight.values()) for i in range(n_chara)]\n",
    "weight=np.array(weight)\n",
    "\n",
    "dp=len(df.index)\n",
    "avg_i=dict()\n",
    "avg_w=dict()\n",
    "for k in range(dp):\n",
    "    c_date=date_t+datetime.timedelta(k)\n",
    "    c_date=\"{0}-{1}\".format(c_date.month,c_date.day)\n",
    "    avg_i[c_date]=dict()\n",
    "    avg_w[c_date]=dict()\n",
    "    for i in range(n_chara*2):\n",
    "        di=[]\n",
    "        for j in range(n_chara*i+1+i,n_chara*(i+1)+1+i):\n",
    "            di.append(float(df[name[j]][k].strip('%'))/100)\n",
    "        arr=np.array(di)\n",
    "        avg_i[c_date][name[i*(n_chara+1)]]=np.mean(arr)\n",
    "        rlt=arr*weight\n",
    "        #df[name[i*(n_chara+1)]][k]=round(rlt.sum(),3)\n",
    "        avg_w[c_date][name[i*(n_chara+1)]]=round(rlt.sum(),3)\n",
    "#df.to_csv(\"out.csv\",columns=[name[i*(n_chara+1)] for i in range(n_chara*2) ],encoding=\"gbk\")\n",
    "avg_w=pd.DataFrame(avg_w)\n",
    "avg_w.sort_values(by=c_date,ascending=False,inplace=True)\n",
    "avg_w.to_csv(\"data/out_w.csv\",encoding=\"gbk\")\n",
    "avg_i=pd.DataFrame(avg_i)\n",
    "avg_i.sort_values(by=c_date,ascending=False,inplace=True)\n",
    "avg_i.to_csv(\"data/out_i.csv\",encoding=\"gbk\")"
   ]
  },
  {
   "cell_type": "code",
   "execution_count": 39,
   "metadata": {},
   "outputs": [
    {
     "name": "stdout",
     "output_type": "stream",
     "text": [
      "007a508e602eca098b9887497a5ec03b wwoonn 艾 826 1671465600000\n",
      "\n"
     ]
    }
   ],
   "source": [
    "\n",
    "with open(\"data/m.json\",'r',encoding=\"utf-8\") as f:\n",
    "    datas=json.load(f)\n",
    "    fcsv=[(\"id\",\"enemyname\",\"char\",\"charlevel\",\"time\")]\n",
    "    for data in datas[\"data\"][\"data\"][0][\"rows\"]:\n",
    "        fcsv.append((data[\"id\"],data[\"enemyname\"],data[\"char\"],data[\"charlevel\"],data[\"time\"]))\n",
    "    with open(\"data/rlt.csv\",\"w\",newline=\"\",encoding=\"utf-8\") as f2:\n",
    "        writer=csv.writer(f2)\n",
    "        writer.writerows(fcsv)\n",
    "    data=datas[\"data\"][\"data\"][0][\"rows\"][0]\n",
    "\n",
    "def json2csv(input,out,col=(),mode=\"w\",encoding=\"utf-8\"):\n",
    "    with open(input,'r',encoding=encoding) as f:\n",
    "        datas=json.load(f)\n",
    "        if mode==\"w\":\n",
    "            fcsv=[col]\n",
    "        else:\n",
    "            fcsv=[]\n",
    "        for data in datas[\"data\"][\"data\"][0][\"rows\"]:\n",
    "            fcsv.append(tuple([data[c] for c in col]))\n",
    "        with open(out,mode=mode,newline=\"\",encoding=encoding) as f2:\n",
    "            writer=csv.writer(f2)\n",
    "            writer.writerows(fcsv)\n",
    "\n",
    "col=(\"id\",\"enemyname\",\"char\",\"charlevel\",\"time\")\n",
    "\n",
    "json2csv(\"data/m.json\",\"data/rlt.csv\",col=col)\n",
    "json2csv(\"data/i.json\",\"data/rlt.csv\",col=col,mode=\"a+\")\n",
    "\n",
    "\n",
    "print(data[\"id\"],data[\"enemyname\"],data[\"char\"],data[\"charlevel\"],data[\"time\"])\n",
    "print()"
   ]
  },
  {
   "cell_type": "code",
   "execution_count": 49,
   "metadata": {},
   "outputs": [
    {
     "name": "stdout",
     "output_type": "stream",
     "text": [
      "data/i.json\n"
     ]
    }
   ],
   "source": [
    "import yaml\n",
    "import os\n",
    "\n",
    "class DefaultConfig():\n",
    "    def __init__(self,path,encoding=\"utf-8\"):\n",
    "        with open(path,\"r\",encoding=encoding) as f:\n",
    "            self.cfg=yaml.safe_load(f)\n",
    "    def loaddata(self,fname) :\n",
    "        try:\n",
    "            cfg_f=self.cfg[\"path_data\"]\n",
    "            path_w=cfg_f[\"path_data\"]\n",
    "            return os.path.join(path_w,cfg_f[fname])\n",
    "        except ValueError as e:\n",
    "            print(e)\n",
    "            return\n",
    "\n",
    "path=\"conf/config.yaml\"\n",
    "cfg=DefaultConfig(path=path)\n",
    "print(cfg.loaddata(\"json_i\"))"
   ]
  }
 ],
 "metadata": {
  "kernelspec": {
   "display_name": "Python 3",
   "language": "python",
   "name": "python3"
  },
  "language_info": {
   "codemirror_mode": {
    "name": "ipython",
    "version": 3
   },
   "file_extension": ".py",
   "mimetype": "text/x-python",
   "name": "python",
   "nbconvert_exporter": "python",
   "pygments_lexer": "ipython3",
   "version": "3.10.0"
  },
  "orig_nbformat": 4,
  "vscode": {
   "interpreter": {
    "hash": "fbc768028c3e6ead51d9a200ddcb2ec858ae62844dcd1994729a8279be9b48f2"
   }
  }
 },
 "nbformat": 4,
 "nbformat_minor": 2
}

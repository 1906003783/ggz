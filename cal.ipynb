{
 "cells": [
  {
   "cell_type": "code",
   "execution_count": 363,
   "metadata": {},
   "outputs": [],
   "source": [
    "import json\n",
    "import csv\n",
    "import pandas as pd\n",
    "import numpy as np\n",
    "import pymysql\n",
    "import datetime"
   ]
  },
  {
   "attachments": {},
   "cell_type": "markdown",
   "metadata": {},
   "source": [
    "处理json"
   ]
  },
  {
   "cell_type": "code",
   "execution_count": 364,
   "metadata": {},
   "outputs": [
    {
     "ename": "FileNotFoundError",
     "evalue": "[Errno 2] No such file or directory: 'm.json'",
     "output_type": "error",
     "traceback": [
      "\u001b[1;31m---------------------------------------------------------------------------\u001b[0m",
      "\u001b[1;31mFileNotFoundError\u001b[0m                         Traceback (most recent call last)",
      "\u001b[1;32me:\\cal\\cal.ipynb Cell 3\u001b[0m in \u001b[0;36m<module>\u001b[1;34m\u001b[0m\n\u001b[1;32m----> <a href='vscode-notebook-cell:/e%3A/cal/cal.ipynb#W2sZmlsZQ%3D%3D?line=0'>1</a>\u001b[0m \u001b[39mwith\u001b[39;00m \u001b[39mopen\u001b[39;49m(\u001b[39m\"\u001b[39;49m\u001b[39mm.json\u001b[39;49m\u001b[39m\"\u001b[39;49m,\u001b[39m'\u001b[39;49m\u001b[39mr\u001b[39;49m\u001b[39m'\u001b[39;49m,encoding\u001b[39m=\u001b[39;49m\u001b[39m\"\u001b[39;49m\u001b[39mutf-8\u001b[39;49m\u001b[39m\"\u001b[39;49m) \u001b[39mas\u001b[39;00m f:\n\u001b[0;32m      <a href='vscode-notebook-cell:/e%3A/cal/cal.ipynb#W2sZmlsZQ%3D%3D?line=1'>2</a>\u001b[0m     datas\u001b[39m=\u001b[39mjson\u001b[39m.\u001b[39mload(f)\n\u001b[0;32m      <a href='vscode-notebook-cell:/e%3A/cal/cal.ipynb#W2sZmlsZQ%3D%3D?line=2'>3</a>\u001b[0m     fcsv\u001b[39m=\u001b[39m[(\u001b[39m\"\u001b[39m\u001b[39mid\u001b[39m\u001b[39m\"\u001b[39m,\u001b[39m\"\u001b[39m\u001b[39menemyname\u001b[39m\u001b[39m\"\u001b[39m,\u001b[39m\"\u001b[39m\u001b[39mchar\u001b[39m\u001b[39m\"\u001b[39m,\u001b[39m\"\u001b[39m\u001b[39mcharlevel\u001b[39m\u001b[39m\"\u001b[39m,\u001b[39m\"\u001b[39m\u001b[39mtime\u001b[39m\u001b[39m\"\u001b[39m)]\n",
      "\u001b[1;31mFileNotFoundError\u001b[0m: [Errno 2] No such file or directory: 'm.json'"
     ]
    }
   ],
   "source": [
    "\n",
    "\n",
    "with open(\"data/m.json\",'r',encoding=\"utf-8\") as f:\n",
    "    datas=json.load(f)\n",
    "    fcsv=[(\"id\",\"enemyname\",\"char\",\"charlevel\",\"time\")]\n",
    "    for data in datas[\"data\"][\"data\"][0][\"rows\"]:\n",
    "        fcsv.append((data[\"id\"],data[\"enemyname\"],data[\"char\"],data[\"charlevel\"],data[\"time\"]))\n",
    "    with open(\"data/rlt.csv\",\"w\",newline=\"\",encoding=\"utf-8\") as f2:\n",
    "        writer=csv.writer(f2)\n",
    "        writer.writerows(fcsv)\n",
    "\n",
    "with open(\"data/i.json\",'r',encoding=\"utf-8\") as f:\n",
    "    datas=json.load(f)\n",
    "    fcsv=[]\n",
    "    for data in datas[\"data\"][\"data\"][0][\"rows\"]:\n",
    "        fcsv.append((data[\"id\"],data[\"enemyname\"],data[\"char\"],data[\"charlevel\"],data[\"time\"]))\n",
    "    with open(\"data/rlt.csv\",\"a+\",newline=\"\",encoding=\"utf-8\") as f2:\n",
    "        writer=csv.writer(f2)\n",
    "        writer.writerows(fcsv)\n",
    "    "
   ]
  },
  {
   "attachments": {},
   "cell_type": "markdown",
   "metadata": {},
   "source": [
    "连接和导入数据库"
   ]
  },
  {
   "cell_type": "code",
   "execution_count": null,
   "metadata": {},
   "outputs": [],
   "source": [
    "#插入函数\n",
    "def dbexe(db,cursor,sql):\n",
    "    try:\n",
    "    # 执行sql语句\n",
    "        cursor.execute(sql)\n",
    "   # 提交到数据库执行\n",
    "        db.commit()\n",
    "    except pymysql.InternalError as e:\n",
    "   # 如果发生错误则回滚\n",
    "        db.rollback()\n",
    "\n",
    "#查询函数\n",
    "def dbsrh(db,cursor,sql):\n",
    "    try:\n",
    "    # 执行sql语句\n",
    "        cursor.execute(sql)\n",
    "   # 提交到数据库执行\n",
    "        result=cursor.fetchall()\n",
    "        return result\n",
    "    except pymysql.InternalError as e:\n",
    "        code, message = e.args\n",
    "        print (\">>>>>>>>>>>>>\", code, message)\n",
    "        return\n",
    "\n",
    "#连接数据库    \n",
    "db=pymysql.connect(host=\"localhost\",user=\"root\",password=\"Hts*9527\",database=\"ggz\",local_infile=True)\n",
    "cursor=db.cursor()\n",
    "\n",
    "sql=\"load data local infile \\\"E:/cal/rlt.csv\\\" into table record character set utf8  fields terminated by ','  lines terminated by '\\r\\n'   ignore 1 lines;\"\n",
    "dbexe(db,cursor,sql)\n",
    "sql=\"delete from record where chara=\\\"野\\\";\"\n",
    "dbexe(db,cursor,sql)\n",
    "\n"
   ]
  },
  {
   "attachments": {},
   "cell_type": "markdown",
   "metadata": {},
   "source": [
    "参数设定"
   ]
  },
  {
   "cell_type": "code",
   "execution_count": null,
   "metadata": {},
   "outputs": [],
   "source": [
    "n_chara=10\n",
    "df=pd.read_csv(\"data/SSS.csv\",encoding=\"utf-8\")\n",
    "pd.set_option('display.max_columns',None)\n",
    "name=[c for c in df.columns]\n",
    "date_i=[2023,1,19]\n",
    "date_t=datetime.date(date_i[0],date_i[1],date_i[2])"
   ]
  },
  {
   "attachments": {},
   "cell_type": "markdown",
   "metadata": {},
   "source": [
    "DB"
   ]
  },
  {
   "cell_type": "code",
   "execution_count": null,
   "metadata": {},
   "outputs": [],
   "source": [
    "\n",
    "\n",
    "sql=\"SELECT * FROM cnt;\"\n",
    "rlt= dbsrh(db,cursor,sql)\n",
    "\n",
    "\n",
    "if rlt is not None:\n",
    "    weight=dict()\n",
    "    for r in rlt:\n",
    "        weight[r[0]]=r[1]\n",
    "\n",
    "# 关闭不使用的游标对象\n",
    "cursor.close()\n",
    "# 关闭数据库连接\n",
    "db.close()"
   ]
  },
  {
   "attachments": {},
   "cell_type": "markdown",
   "metadata": {},
   "source": [
    "输出加权胜率"
   ]
  },
  {
   "cell_type": "code",
   "execution_count": null,
   "metadata": {},
   "outputs": [],
   "source": [
    "weight=[float(weight[(name[2*i*(n_chara+1)].strip(\"\\t\"))[0]])/sum(weight.values()) for i in range(n_chara)]\n",
    "weight=np.array(weight)\n",
    "\n",
    "dp=len(df.index)\n",
    "avg_i=dict()\n",
    "avg_w=dict()\n",
    "for k in range(dp):\n",
    "    c_date=date_t+datetime.timedelta(k)\n",
    "    c_date=\"{0}-{1}\".format(c_date.month,c_date.day)\n",
    "    avg_i[c_date]=dict()\n",
    "    avg_w[c_date]=dict()\n",
    "    for i in range(n_chara*2):\n",
    "        di=[]\n",
    "        for j in range(n_chara*i+1+i,n_chara*(i+1)+1+i):\n",
    "            di.append(float(df[name[j]][k].strip('%'))/100)\n",
    "        arr=np.array(di)\n",
    "        avg_i[c_date][name[i*(n_chara+1)]]=np.mean(arr)\n",
    "        rlt=arr*weight\n",
    "        #df[name[i*(n_chara+1)]][k]=round(rlt.sum(),3)\n",
    "        avg_w[c_date][name[i*(n_chara+1)]]=round(rlt.sum(),3)\n",
    "#df.to_csv(\"out.csv\",columns=[name[i*(n_chara+1)] for i in range(n_chara*2) ],encoding=\"gbk\")\n",
    "avg_w=pd.DataFrame(avg_w)\n",
    "avg_w.sort_values(by=c_date,ascending=False,inplace=True)\n",
    "avg_w.to_csv(\"data/out_w.csv\",encoding=\"gbk\")\n",
    "avg_i=pd.DataFrame(avg_i)\n",
    "avg_i.sort_values(by=c_date,ascending=False,inplace=True)\n",
    "avg_i.to_csv(\"data/out_i.csv\",encoding=\"gbk\")"
   ]
  },
  {
   "cell_type": "code",
   "execution_count": null,
   "metadata": {},
   "outputs": [],
   "source": []
  }
 ],
 "metadata": {
  "kernelspec": {
   "display_name": "Python 3",
   "language": "python",
   "name": "python3"
  },
  "language_info": {
   "codemirror_mode": {
    "name": "ipython",
    "version": 3
   },
   "file_extension": ".py",
   "mimetype": "text/x-python",
   "name": "python",
   "nbconvert_exporter": "python",
   "pygments_lexer": "ipython3",
   "version": "3.10.0"
  },
  "orig_nbformat": 4,
  "vscode": {
   "interpreter": {
    "hash": "fbc768028c3e6ead51d9a200ddcb2ec858ae62844dcd1994729a8279be9b48f2"
   }
  }
 },
 "nbformat": 4,
 "nbformat_minor": 2
}
